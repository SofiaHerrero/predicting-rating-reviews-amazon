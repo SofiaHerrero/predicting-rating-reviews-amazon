{
 "cells": [
  {
   "cell_type": "code",
   "execution_count": 28,
   "metadata": {
    "collapsed": true
   },
   "outputs": [],
   "source": [
    "import pandas as pd\n",
    "import numpy as np\n",
    "import matplotlib.pyplot as plt\n",
    "plt.style.use('ggplot')\n",
    "from sklearn.model_selection import train_test_split\n",
    "from sklearn.feature_extraction.text import TfidfVectorizer\n",
    "from sklearn.feature_selection import chi2\n",
    "from sklearn.naive_bayes import MultinomialNB\n",
    "from sklearn.metrics import precision_recall_fscore_support, accuracy_score, confusion_matrix\n",
    "from sklearn.naive_bayes import MultinomialNB\n",
    "from sklearn.linear_model import LogisticRegression\n",
    "from sklearn.ensemble import RandomForestClassifier\n",
    "from sklearn.svm import LinearSVC"
   ]
  },
  {
   "cell_type": "code",
   "execution_count": 2,
   "metadata": {
    "collapsed": true
   },
   "outputs": [],
   "source": [
    "# Loading the data\n",
    "data_path = 'Trifork Machine Learning Assignment--dataAmazonReviews.csv'\n",
    "df = pd.read_csv(data_path)"
   ]
  },
  {
   "cell_type": "code",
   "execution_count": 11,
   "metadata": {},
   "outputs": [],
   "source": [
    "# Preprocessing the data\n",
    "df = df.drop_duplicates()\n",
    "df = df[pd.notnull(df['Title'])]\n",
    "df = df[pd.notnull(df['Review'])]"
   ]
  },
  {
   "cell_type": "code",
   "execution_count": 12,
   "metadata": {},
   "outputs": [
    {
     "data": {
      "image/png": "[encoded data removed]",
      "text/plain": [
       "<matplotlib.figure.Figure at 0x110db3080>"
      ]
     },
     "metadata": {},
     "output_type": "display_data"
    }
   ],
   "source": [
    "# Plot class distribution\n",
    "df.groupby('Score').Review.count().plot.bar(figsize=(7,5), title='Class distribution', colormap='tab20')\n",
    "plt.show()"
   ]
  },
  {
   "cell_type": "code",
   "execution_count": 26,
   "metadata": {},
   "outputs": [],
   "source": [
    "def train(classifier, data, name, feature_names):\n",
    "    X_train, X_test, y_train, y_test = data\n",
    "    # Train the model\n",
    "    classifier.fit(X_train, y_train)\n",
    "    # Predict the test data\n",
    "    y_pred = classifier.predict(X_test)\n",
    "    print(name)\n",
    "    # Compute accuracy\n",
    "    print(\"Accuracy: %s\" % accuracy_score(y_test, y_pred, normalize=True, sample_weight=None))\n",
    "    # Compute f1, precision and recall\n",
    "    p, r, f, _ = precision_recall_fscore_support(y_test, y_pred)\n",
    "    print(\"Precision: {} \\nRecall: {} \\nFscore {}\".format(p, r, f))\n",
    "    # Print the 10 top keywords    \n",
    "    target_names = ['1', '2', '3', '4', '5']\n",
    "    print(\"top 10 keywords per class:\")\n",
    "    for i, label in enumerate(target_names):\n",
    "        top10 = np.argsort(classifier.coef_[i])[-10:]\n",
    "        #print(top10)\n",
    "        #print(feature_names[top10])\n",
    "        print(\"%s: %s\" % (label, \" \".join(feature_names[i] for i in top10)))\n",
    "    print('\\nConfusion matrix')\n",
    "    cm = confusion_matrix(y_test, y_pred)\n",
    "    print(cm)\n",
    "\n",
    "    "
   ]
  },
  {
   "cell_type": "code",
   "execution_count": 13,
   "metadata": {},
   "outputs": [],
   "source": [
    "# Divide data set and prepare features\n",
    "X_train, X_test, y_train, y_test = train_test_split(df['Review'], df['Score'], test_size=0.2, random_state = 0)\n",
    "tfidf_vectorizer = TfidfVectorizer(ngram_range=(1, 2), min_df=2, stop_words='english', norm='l2', sublinear_tf=True)\n",
    "X_train = tfidf_vectorizer.fit_transform(X_train)\n",
    "X_test = tfidf_vectorizer.transform(X_test)  # use same vectorizer for the test data\n",
    "data = [X_train, X_test, y_train, y_test]\n",
    "feature_names = tfidf_vectorizer.get_feature_names()"
   ]
  },
  {
   "cell_type": "code",
   "execution_count": 16,
   "metadata": {},
   "outputs": [
    {
     "data": {
      "text/plain": [
       "(2733, 7492)"
      ]
     },
     "execution_count": 16,
     "metadata": {},
     "output_type": "execute_result"
    }
   ],
   "source": [
    "X_train.shape"
   ]
  },
  {
   "cell_type": "code",
   "execution_count": 29,
   "metadata": {},
   "outputs": [
    {
     "name": "stdout",
     "output_type": "stream",
     "text": [
      "Naive Bayes\n",
      "Accuracy: 0.72953216374269\n",
      "Precision: [0.68055556 0.5        0.4        0.28571429 0.76083189] \n",
      "Recall: [0.72058824 0.0625     0.05714286 0.07476636 0.95851528] \n",
      "Fscore [0.7        0.11111111 0.1        0.11851852 0.84830918]\n",
      "top 10 keywords per class:\n",
      "1: card refund money item don order account service customer amazon\n",
      "2: orders days price customer time ordered shipping order item amazon\n",
      "3: time items service order products like delivery shipping good amazon\n",
      "4: buy site fast products prices delivery great service amazon good\n",
      "5: time customer best fast delivery love good great service amazon\n",
      "\n",
      "Confusion matrix\n",
      "[[ 49   1   2   3  13]\n",
      " [  8   1   0   1   6]\n",
      " [  4   0   2   3  26]\n",
      " [  5   0   1   8  93]\n",
      " [  6   0   0  13 439]]\n"
     ]
    }
   ],
   "source": [
    "classifier = MultinomialNB(alpha=0.01)\n",
    "train(classifier, data, 'Naive Bayes', feature_names)"
   ]
  },
  {
   "cell_type": "code",
   "execution_count": 30,
   "metadata": {},
   "outputs": [
    {
     "name": "stdout",
     "output_type": "stream",
     "text": [
      "Linear SVC\n",
      "Accuracy: 0.7324561403508771\n",
      "Precision: [0.73333333 0.5        0.28571429 0.33333333 0.76338515] \n",
      "Recall: [0.64705882 0.0625     0.05714286 0.11214953 0.9650655 ] \n",
      "Fscore [0.6875     0.11111111 0.0952381  0.16783217 0.85245902]\n",
      "top 10 keywords per class:\n",
      "1: august doing account mom review refused horrible trying contact poor\n",
      "2: expect order cancelled stuffed net struggling involved finally cancel lot better amazon price\n",
      "3: product damaged card details products reviews poor service prefer good amazon fake helpline amazon useful slow\n",
      "4: delivery prices dates bit amazon days shop products trustful product good design normally overall\n",
      "5: delivery quality earlier amazing awesome love fantastic recommend live thank excellent\n",
      "\n",
      "Confusion matrix\n",
      "[[ 44   1   2   3  18]\n",
      " [  6   1   1   3   5]\n",
      " [  2   0   2   4  27]\n",
      " [  6   0   2  12  87]\n",
      " [  2   0   0  14 442]]\n"
     ]
    }
   ],
   "source": [
    "classifier = LinearSVC(penalty='l2', dual=False, tol=1e-4)\n",
    "train(classifier, data, 'Linear SVC', feature_names)"
   ]
  },
  {
   "cell_type": "code",
   "execution_count": 25,
   "metadata": {},
   "outputs": [
    {
     "name": "stdout",
     "output_type": "stream",
     "text": [
      "Logistic regression\n",
      "Accuracy: 0.7002923976608187\n",
      "Precision: [0.7826087  0.         0.         1.         0.69604863] \n",
      "Recall: [0.26470588 0.         0.         0.02803738 1.        ] \n",
      "Fscore [0.3956044  0.         0.         0.05454545 0.82078853]\n",
      "top 10 keywords per class:\n",
      "1: told refund email review card don money contact account poor\n",
      "2: poor seller getting cancelled bad damaged orders cancel amazon price item\n",
      "3: fake helpline posted ok ship stuff big high slow shipping\n",
      "4: good service good site quality product normally little bit pretty good overall\n",
      "5: amazon fast fantastic thank recommend amazing great best love excellent\n"
     ]
    },
    {
     "name": "stderr",
     "output_type": "stream",
     "text": [
      "/Users/Sofia/anaconda3/lib/python3.6/site-packages/sklearn/metrics/classification.py:1135: UndefinedMetricWarning: Precision and F-score are ill-defined and being set to 0.0 in labels with no predicted samples.\n",
      "  'precision', 'predicted', average, warn_for)\n"
     ]
    }
   ],
   "source": [
    "classifier = LogisticRegression()\n",
    "train(classifier, data, 'Logistic regression', feature_names)"
   ]
  },
  {
   "cell_type": "code",
   "execution_count": null,
   "metadata": {
    "collapsed": true
   },
   "outputs": [],
   "source": []
  }
 ],
 "metadata": {
  "kernelspec": {
   "display_name": "Python 3",
   "language": "python",
   "name": "python3"
  },
  "language_info": {
   "codemirror_mode": {
    "name": "ipython",
    "version": 3
   },
   "file_extension": ".py",
   "mimetype": "text/x-python",
   "name": "python",
   "nbconvert_exporter": "python",
   "pygments_lexer": "ipython3",
   "version": "3.6.3"
  }
 },
 "nbformat": 4,
 "nbformat_minor": 2
}
